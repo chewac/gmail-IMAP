{
 "cells": [
  {
   "cell_type": "code",
   "execution_count": null,
   "metadata": {},
   "outputs": [],
   "source": [
    "import imaplib\n",
    "import email\n",
    "from email.header import decode_header\n",
    "import webbrowser\n",
    "import os\n",
    "\n",
    "# account credentials\n",
    "username = \"yourusername@gmail.com\"\n",
    "password = \"yourpassword\"\n",
    "\n",
    "def clean(text):\n",
    "    # clean text for creating a folder\n",
    "    return \"\".join(c if c.isalnum() else \"_\" for c in text)"
   ]
  },
  {
   "cell_type": "code",
   "execution_count": null,
   "metadata": {
    "scrolled": true
   },
   "outputs": [],
   "source": [
    "# create an IMAP4 class with SSL \n",
    "imap = imaplib.IMAP4_SSL(\"imap.gmail.com\")\n",
    "# authenticate\n",
    "imap.login(username, password)"
   ]
  },
  {
   "cell_type": "code",
   "execution_count": null,
   "metadata": {},
   "outputs": [],
   "source": [
    "status, messages = imap.select(\"INBOX\")\n",
    "# number of top emails to fetch\n",
    "N = 3\n",
    "# total number of emails\n",
    "messages = int(messages[0])"
   ]
  },
  {
   "cell_type": "code",
   "execution_count": null,
   "metadata": {
    "scrolled": true
   },
   "outputs": [],
   "source": [
    "for i in range(messages, messages-N, -1):\n",
    "    # fetch the email message by ID\n",
    "    res, msg = imap.fetch(str(i), \"(RFC822)\")\n",
    "    for response in msg:\n",
    "        if isinstance(response, tuple):\n",
    "            # parse a bytes email into a message object\n",
    "            msg = email.message_from_bytes(response[1])\n",
    "            # decode the email subject\n",
    "            subject, encoding = decode_header(msg[\"Subject\"])[0]\n",
    "            if isinstance(subject, bytes):\n",
    "                # if it's a bytes, decode to str\n",
    "                subject = subject.decode(encoding)\n",
    "            # decode email sender\n",
    "            From, encoding = decode_header(msg.get(\"From\"))[0]\n",
    "            if isinstance(From, bytes):\n",
    "                From = From.decode(encoding)\n",
    "            print(\"Subject:\", subject)\n",
    "            print(\"From:\", From)\n",
    "            # if the email message is multipart\n",
    "            if msg.is_multipart():\n",
    "                # iterate over email parts\n",
    "                for part in msg.walk():\n",
    "                    # extract content type of email\n",
    "                    content_type = part.get_content_type()\n",
    "                    content_disposition = str(part.get(\"Content-Disposition\"))\n",
    "                    try:\n",
    "                        # get the email body\n",
    "                        body = part.get_payload(decode=True).decode()\n",
    "                    except:\n",
    "                        pass\n",
    "                    if content_type == \"text/plain\" and \"attachment\" not in content_disposition:\n",
    "                        # print text/plain emails and skip attachments\n",
    "                        print(body)\n",
    "                    elif \"attachment\" in content_disposition:\n",
    "                        # download attachment\n",
    "                        filename = part.get_filename()\n",
    "                        if filename:\n",
    "                            folder_name = clean(subject)\n",
    "                            if not os.path.isdir(folder_name):\n",
    "                                # make a folder for this email (named after the subject)\n",
    "                                os.mkdir(folder_name)\n",
    "                            filepath = os.path.join(folder_name, filename)\n",
    "                            # download attachment and save it\n",
    "                            open(filepath, \"wb\").write(part.get_payload(decode=True))\n",
    "            else:\n",
    "                # extract content type of email\n",
    "                content_type = msg.get_content_type()\n",
    "                # get the email body\n",
    "                body = msg.get_payload(decode=True).decode()\n",
    "                if content_type == \"text/plain\":\n",
    "                    # print only text email parts\n",
    "                    print(body)\n",
    "            if content_type == \"text/html\":\n",
    "                # if it's HTML, create a new HTML file and open it in browser\n",
    "                folder_name = clean(subject)\n",
    "                if not os.path.isdir(folder_name):\n",
    "                    # make a folder for this email (named after the subject)\n",
    "                    os.mkdir(folder_name)\n",
    "                filename = \"index.html\"\n",
    "                filepath = os.path.join(folder_name, filename)\n",
    "                # write the file\n",
    "                open(filepath, \"w\").write(body)\n",
    "                # open in the default browser\n",
    "                webbrowser.open(filepath)\n",
    "            print(\"=\"*100)\n",
    "# close the connection and logout\n",
    "imap.close()\n",
    "imap.logout()"
   ]
  }
 ],
 "metadata": {
  "kernelspec": {
   "display_name": "Python 3",
   "language": "python",
   "name": "python3"
  },
  "language_info": {
   "codemirror_mode": {
    "name": "ipython",
    "version": 3
   },
   "file_extension": ".py",
   "mimetype": "text/x-python",
   "name": "python",
   "nbconvert_exporter": "python",
   "pygments_lexer": "ipython3",
   "version": "3.7.4"
  }
 },
 "nbformat": 4,
 "nbformat_minor": 2
}
